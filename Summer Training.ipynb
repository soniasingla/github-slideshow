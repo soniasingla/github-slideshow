---
layout: slide
title: "Welcome to our second slide!"
---
Exploring Github <3 
Use the left arrow to go back!
